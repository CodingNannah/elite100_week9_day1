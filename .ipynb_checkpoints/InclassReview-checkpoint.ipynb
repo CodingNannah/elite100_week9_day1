{
 "cells": [
  {
   "cell_type": "code",
   "execution_count": 11,
   "id": "540e3844",
   "metadata": {},
   "outputs": [
    {
     "data": {
      "text/plain": [
       "'C:\\\\Users\\\\danan\\\\Desktop\\\\Coding Temple\\\\Elite_100\\\\week9\\\\day1\\\\lecture'"
      ]
     },
     "execution_count": 11,
     "metadata": {},
     "output_type": "execute_result"
    }
   ],
   "source": [
    "pwd"
   ]
  },
  {
   "cell_type": "code",
   "execution_count": 43,
   "id": "777fcabc",
   "metadata": {},
   "outputs": [],
   "source": [
    "bob_saget = {\n",
    "    \"id\":1,\n",
    "    \"first_name\": \"robert\",\n",
    "    \"last_name\":\"saget\",\n",
    "    \"age\":65,\n",
    "    \"deceased\": True,\n",
    "    \"films\":[\"Spaced Out\", \"Half Baked\", \"Madagascar\"],\n",
    "    \"television\":[\"Full House\", \"America's Funniest Home Videos\", \"How I Met Your Mother\"],\n",
    "    \"wife\":{\n",
    "        \"name\":\"Sherri Kramer\",\n",
    "        \"age\":41,\n",
    "        \"deceased\": True,\n",
    "        \"children\":[\"Aubrey Saget\", \"Lara Saget\",\"Jennifer Saget\"]\n",
    "    }\n",
    "\n",
    "}"
   ]
  },
  {
   "cell_type": "markdown",
   "id": "ed397d43",
   "metadata": {},
   "source": [
    "## Print \"Robert Saget\""
   ]
  },
  {
   "cell_type": "code",
   "execution_count": 97,
   "id": "d53ec02b",
   "metadata": {
    "scrolled": true
   },
   "outputs": [
    {
     "name": "stdout",
     "output_type": "stream",
     "text": [
      "Robert Saget\n"
     ]
    }
   ],
   "source": [
    "print(bob_saget[\"first_name\"].title(), bob_saget[\"last_name\"].capitalize())\n"
   ]
  },
  {
   "cell_type": "code",
   "execution_count": 24,
   "id": "f211af28",
   "metadata": {
    "scrolled": true
   },
   "outputs": [
    {
     "ename": "KeyError",
     "evalue": "1",
     "output_type": "error",
     "traceback": [
      "\u001b[1;31m---------------------------------------------------------------------------\u001b[0m",
      "\u001b[1;31mKeyError\u001b[0m                                  Traceback (most recent call last)",
      "Input \u001b[1;32mIn [24]\u001b[0m, in \u001b[0;36m<cell line: 1>\u001b[1;34m()\u001b[0m\n\u001b[1;32m----> 1\u001b[0m \u001b[43mbob_saget\u001b[49m\u001b[43m[\u001b[49m\u001b[38;5;241;43m1\u001b[39;49m\u001b[43m]\u001b[49m\u001b[38;5;241m.\u001b[39mupper\n",
      "\u001b[1;31mKeyError\u001b[0m: 1"
     ]
    }
   ],
   "source": [
    "bob_saget[1].upper "
   ]
  },
  {
   "cell_type": "markdown",
   "id": "8edff28c",
   "metadata": {},
   "source": [
    "## Print \"True\""
   ]
  },
  {
   "cell_type": "code",
   "execution_count": 29,
   "id": "c8cf175b",
   "metadata": {},
   "outputs": [
    {
     "name": "stdout",
     "output_type": "stream",
     "text": [
      "True\n"
     ]
    }
   ],
   "source": [
    "print(bob_saget[\"deceased\"])"
   ]
  },
  {
   "cell_type": "markdown",
   "id": "fb121eee",
   "metadata": {},
   "source": [
    "## Print American's Funniest Home Video\""
   ]
  },
  {
   "cell_type": "code",
   "execution_count": 44,
   "id": "68ff062e",
   "metadata": {},
   "outputs": [
    {
     "name": "stdout",
     "output_type": "stream",
     "text": [
      "America's Funniest Home Videos\n"
     ]
    }
   ],
   "source": [
    "print(bob_saget['television'][1])"
   ]
  },
  {
   "cell_type": "markdown",
   "id": "697cc15b",
   "metadata": {},
   "source": [
    "## Print Bob was in Spaced Out, Half Baked, and Madascar"
   ]
  },
  {
   "cell_type": "code",
   "execution_count": 49,
   "id": "8785b95b",
   "metadata": {},
   "outputs": [
    {
     "name": "stdout",
     "output_type": "stream",
     "text": [
      "Spaced Out Half Baked Madagascar\n"
     ]
    }
   ],
   "source": []
  },
  {
   "cell_type": "code",
   "execution_count": null,
   "id": "9681710e",
   "metadata": {},
   "outputs": [],
   "source": [
    "# Marco\n",
    "print('Bob was in ' + ', '.join(bob_saget[\"films\"]))\n"
   ]
  },
  {
   "cell_type": "code",
   "execution_count": 52,
   "id": "46f93a9e",
   "metadata": {
    "scrolled": true
   },
   "outputs": [
    {
     "name": "stdout",
     "output_type": "stream",
     "text": [
      "Bob was in Spaced Out, Half Baked, and Madagascar.\n"
     ]
    }
   ],
   "source": [
    "print(f'Bob was in {bob_saget[\"films\"][0]}, {bob_saget[\"films\"][1]}, and {bob_saget[\"films\"][2]}.')"
   ]
  },
  {
   "cell_type": "markdown",
   "id": "1b2fe7ab",
   "metadata": {},
   "source": [
    "## Print Sherri had 3 kids: Aubrey Lara and Jennifer"
   ]
  },
  {
   "cell_type": "code",
   "execution_count": 101,
   "id": "af3d1794",
   "metadata": {},
   "outputs": [
    {
     "name": "stdout",
     "output_type": "stream",
     "text": [
      "Sherri had 3 kids: Aubrey, Lara, and Jennifer.\n"
     ]
    }
   ],
   "source": [
    "print(f'Sherri had 3 kids: {bob_saget[\"wife\"][\"children\"][0][0:6]}, {bob_saget[\"wife\"][\"children\"][1][0:4]}, and {bob_saget[\"wife\"][\"children\"][2][0:8]}.')"
   ]
  },
  {
   "cell_type": "markdown",
   "id": "c58fc3cc",
   "metadata": {},
   "source": [
    "## Write a function that will accept a person dictionary and return \"That person is Alive\" or \"That person has passed\" in accoradance with the values in the dictionary"
   ]
  },
  {
   "cell_type": "code",
   "execution_count": null,
   "id": "e1bbc74a",
   "metadata": {},
   "outputs": [],
   "source": [
    "is_deceased: \n",
    "    for pers in person:\n",
    "        if \"deceased\" == true:\n",
    "            return 'That person has passed.'\n",
    "        else:\n",
    "            return \"That person is alive.\"\n",
    "    "
   ]
  },
  {
   "cell_type": "code",
   "execution_count": 60,
   "id": "333abc77",
   "metadata": {},
   "outputs": [],
   "source": [
    "items=[{\n",
    "    \"id\":4,\n",
    "    \"name\":\"Red Sneakers\",\n",
    "    \"desc\":\"I love red shoes\",\n",
    "    \"price\":109.99,\n",
    "    \"category\":\"shoes\",\n",
    "    },\n",
    "    {\n",
    "    \"id\":3,\n",
    "    \"name\":\"Blue Heels\",\n",
    "    \"desc\":\"I Can't walk in these\",\n",
    "    \"price\":69.99,\n",
    "    \"category\":\"shoes\",\n",
    "    }\n",
    "    ,\n",
    "    {\n",
    "    \"id\":2,\n",
    "    \"name\":\"Aerosmith T-Shirt\",\n",
    "    \"desc\":\"Show others you used to have bad taste in music\",\n",
    "    \"price\":4.99,\n",
    "    \"category\":\"shirts\",\n",
    "    }\n",
    "    ,{\n",
    "    \"id\":1,\n",
    "    \"name\":\"Vote for Pedro T\",\n",
    "    \"desc\":\"Napolean Dynomite Theme T\",\n",
    "    \"price\":19.99,\n",
    "    \"category\":\"shirts\",\n",
    "    }\n",
    "    ,{\n",
    "    \"id\":5,\n",
    "    \"name\":\"NY Yankees Hat\",\n",
    "    \"desc\":\"I hate the Red Sox\",\n",
    "    \"price\":24.99,\n",
    "    \"category\":\"hats\",\n",
    "    }\n",
    "    ,{\n",
    "    \"id\":6,\n",
    "    \"name\":\"Cowboy\",\n",
    "    \"desc\":\"Get ready for the ho-down\",\n",
    "    \"price\":49.99,\n",
    "    \"category\":\"hats\",\n",
    "    },\n",
    "    {\n",
    "    \"id\":7,\n",
    "    \"name\":\"Fedora\",\n",
    "    \"desc\":\"The hat not the OS\",\n",
    "    \"price\":16.47,\n",
    "    \"category\":\"hats\",\n",
    "    }]"
   ]
  },
  {
   "cell_type": "markdown",
   "id": "d176d8d7",
   "metadata": {},
   "source": [
    "## Print all the items in the list surrounded by bars (see example)"
   ]
  },
  {
   "cell_type": "code",
   "execution_count": 81,
   "id": "549a27dc",
   "metadata": {},
   "outputs": [
    {
     "name": "stdout",
     "output_type": "stream",
     "text": [
      "109.99\n",
      "109.99\n",
      "109.99\n",
      "109.99\n",
      "109.99\n",
      "109.99\n",
      "109.99\n"
     ]
    }
   ],
   "source": [
    "for i in items:\n",
    "    print(items[0][\"price\"])"
   ]
  },
  {
   "cell_type": "code",
   "execution_count": null,
   "id": "2fcd2ef1",
   "metadata": {},
   "outputs": [],
   "source": [
    "# for dic in items:\n",
    "#     for key in dic:\n",
    "#         print(dic[key])\n",
    "\n",
    "# index = 0\n",
    "# while index < len(items):\n",
    "#     for key in items[index]:\n",
    "#         print(items[index][key])\n",
    "#     index += 1"
   ]
  },
  {
   "cell_type": "code",
   "execution_count": 89,
   "id": "f89c178a",
   "metadata": {},
   "outputs": [],
   "source": [
    "while index < len(items):\n",
    "    for key in items[index]:\n",
    "        print(\"===================================\")\n",
    "        print(f'| {items[index][\"id\"]}')\n",
    "        print(f'|~~~~~~~~~~~~~~~~~~~~~~~~~~~~~~~~~')\n",
    "        print(f'| {items[index][\"name\"]}')\n",
    "        print(f'| {items[index][\"desc\"]}')\n",
    "        print(f'| {items[index][\"price\"]}')\n",
    "        print(f'| {items[index][\"category\"]}')\n",
    "        print(f\"==================================\")"
   ]
  },
  {
   "cell_type": "code",
   "execution_count": 26,
   "id": "189ae3da",
   "metadata": {
    "scrolled": true
   },
   "outputs": [
    {
     "name": "stdout",
     "output_type": "stream",
     "text": [
      " ===================\n",
      "|  4\n",
      "|~~~~~~~~~~~~~~~~~~\n",
      "|  Red Sneakers\n",
      "|  I love red shoes\n",
      "|  $109.99\n",
      "|  shoes\n",
      " ===================\n",
      " ===================\n",
      "|  3\n",
      "|~~~~~~~~~~~~~~~~~~\n",
      "|  Blue Heels\n",
      "|  I Can't walk in these\n",
      "|  $69.99\n",
      "|  shoes\n",
      " ===================\n",
      " ===================\n",
      "|  2\n",
      "|~~~~~~~~~~~~~~~~~~\n",
      "|  Aerosmith T-Shirt\n",
      "|  Show others you used to have bad taste in music\n",
      "|  $4.99\n",
      "|  shirts\n",
      " ===================\n",
      " ===================\n",
      "|  1\n",
      "|~~~~~~~~~~~~~~~~~~\n",
      "|  Vote for Pedro T\n",
      "|  Napolean Dynomite Theme T\n",
      "|  $19.99\n",
      "|  shirts\n",
      " ===================\n",
      " ===================\n",
      "|  5\n",
      "|~~~~~~~~~~~~~~~~~~\n",
      "|  NY Yankees Hat\n",
      "|  I hate the Red Sox\n",
      "|  $24.99\n",
      "|  hats\n",
      " ===================\n",
      " ===================\n",
      "|  6\n",
      "|~~~~~~~~~~~~~~~~~~\n",
      "|  Cowboy\n",
      "|  Get ready for the ho-down\n",
      "|  $49.99\n",
      "|  hats\n",
      " ===================\n",
      " ===================\n",
      "|  7\n",
      "|~~~~~~~~~~~~~~~~~~\n",
      "|  Fedora\n",
      "|  The hat not the OS\n",
      "|  $16.47\n",
      "|  hats\n",
      " ===================\n"
     ]
    }
   ],
   "source": []
  },
  {
   "cell_type": "markdown",
   "id": "f3700590",
   "metadata": {},
   "source": [
    "## Print the total price for all the items in the list"
   ]
  },
  {
   "cell_type": "code",
   "execution_count": 102,
   "id": "2cbb810a",
   "metadata": {},
   "outputs": [
    {
     "name": "stdout",
     "output_type": "stream",
     "text": [
      "296.41\n"
     ]
    }
   ],
   "source": [
    "# Marco way\n",
    "print(round(sum([items[i]['price'] for i in range(len(items))]),6))\n"
   ]
  },
  {
   "cell_type": "code",
   "execution_count": 107,
   "id": "54fcb496",
   "metadata": {},
   "outputs": [
    {
     "ename": "TypeError",
     "evalue": "float expected at most 1 argument, got 2",
     "output_type": "error",
     "traceback": [
      "\u001b[1;31m---------------------------------------------------------------------------\u001b[0m",
      "\u001b[1;31mTypeError\u001b[0m                                 Traceback (most recent call last)",
      "Input \u001b[1;32mIn [107]\u001b[0m, in \u001b[0;36m<cell line: 1>\u001b[1;34m()\u001b[0m\n\u001b[1;32m----> 1\u001b[0m \u001b[38;5;28mprint\u001b[39m(\u001b[38;5;28;43mfloat\u001b[39;49m\u001b[43m(\u001b[49m\u001b[38;5;28;43msum\u001b[39;49m\u001b[43m(\u001b[49m\u001b[43m[\u001b[49m\u001b[43mitems\u001b[49m\u001b[43m[\u001b[49m\u001b[43mi\u001b[49m\u001b[43m]\u001b[49m\u001b[43m[\u001b[49m\u001b[38;5;124;43m\"\u001b[39;49m\u001b[38;5;124;43mprice\u001b[39;49m\u001b[38;5;124;43m\"\u001b[39;49m\u001b[43m]\u001b[49m\u001b[43m \u001b[49m\u001b[38;5;28;43;01mfor\u001b[39;49;00m\u001b[43m \u001b[49m\u001b[43mi\u001b[49m\u001b[43m \u001b[49m\u001b[38;5;129;43;01min\u001b[39;49;00m\u001b[43m \u001b[49m\u001b[38;5;28;43mrange\u001b[39;49m\u001b[43m(\u001b[49m\u001b[38;5;28;43mlen\u001b[39;49m\u001b[43m(\u001b[49m\u001b[43mitems\u001b[49m\u001b[43m)\u001b[49m\u001b[43m)\u001b[49m\u001b[43m]\u001b[49m\u001b[43m)\u001b[49m\u001b[43m,\u001b[49m\u001b[43m \u001b[49m\u001b[38;5;241;43m6\u001b[39;49m\u001b[43m)\u001b[49m)\n",
      "\u001b[1;31mTypeError\u001b[0m: float expected at most 1 argument, got 2"
     ]
    }
   ],
   "source": [
    "print(float(sum([items[i][\"price\"] for i in range(len(items))]), 6))"
   ]
  },
  {
   "cell_type": "markdown",
   "id": "5a12cf25",
   "metadata": {},
   "source": [
    "## Write a function that will print all the items in a certain category:"
   ]
  },
  {
   "cell_type": "code",
   "execution_count": null,
   "id": "2c44e302",
   "metadata": {},
   "outputs": [],
   "source": [
    "def get_by_cat(cat):\n",
    "    pass\n",
    "\n",
    "\n",
    "get_by_cat(\"hats\")"
   ]
  },
  {
   "cell_type": "code",
   "execution_count": 36,
   "id": "a2f8ab79",
   "metadata": {},
   "outputs": [
    {
     "data": {
      "text/plain": [
       "[{'id': 5,\n",
       "  'name': 'NY Yankees Hat',\n",
       "  'desc': 'I hate the Red Sox',\n",
       "  'price': 24.99,\n",
       "  'category': 'hats'},\n",
       " {'id': 6,\n",
       "  'name': 'Cowboy',\n",
       "  'desc': 'Get ready for the ho-down',\n",
       "  'price': 49.99,\n",
       "  'category': 'hats'},\n",
       " {'id': 7,\n",
       "  'name': 'Fedora',\n",
       "  'desc': 'The hat not the OS',\n",
       "  'price': 16.47,\n",
       "  'category': 'hats'}]"
      ]
     },
     "execution_count": 36,
     "metadata": {},
     "output_type": "execute_result"
    }
   ],
   "source": [
    "def get_by_cat(cat):\n",
    "    pass\n",
    "\n",
    "\n",
    "get_by_cat(\"hats\")"
   ]
  },
  {
   "cell_type": "markdown",
   "id": "99a3505a",
   "metadata": {},
   "source": [
    "## Write a function to change the category for everything in shoes and everything in hats and put them in a new category called accessories"
   ]
  },
  {
   "cell_type": "code",
   "execution_count": 41,
   "id": "775f5bc3",
   "metadata": {},
   "outputs": [
    {
     "data": {
      "text/plain": [
       "[{'id': 4,\n",
       "  'name': 'Red Sneakers',\n",
       "  'desc': 'I love red shoes',\n",
       "  'price': 109.99,\n",
       "  'category': 'accessories'},\n",
       " {'id': 3,\n",
       "  'name': 'Blue Heels',\n",
       "  'desc': \"I Can't walk in these\",\n",
       "  'price': 69.99,\n",
       "  'category': 'accessories'},\n",
       " {'id': 2,\n",
       "  'name': 'Aerosmith T-Shirt',\n",
       "  'desc': 'Show others you used to have bad taste in music',\n",
       "  'price': 4.99,\n",
       "  'category': 'shirts'},\n",
       " {'id': 1,\n",
       "  'name': 'Vote for Pedro T',\n",
       "  'desc': 'Napolean Dynomite Theme T',\n",
       "  'price': 19.99,\n",
       "  'category': 'shirts'},\n",
       " {'id': 5,\n",
       "  'name': 'NY Yankees Hat',\n",
       "  'desc': 'I hate the Red Sox',\n",
       "  'price': 24.99,\n",
       "  'category': 'accessories'},\n",
       " {'id': 6,\n",
       "  'name': 'Cowboy',\n",
       "  'desc': 'Get ready for the ho-down',\n",
       "  'price': 49.99,\n",
       "  'category': 'accessories'},\n",
       " {'id': 7,\n",
       "  'name': 'Fedora',\n",
       "  'desc': 'The hat not the OS',\n",
       "  'price': 16.47,\n",
       "  'category': 'accessories'}]"
      ]
     },
     "execution_count": 41,
     "metadata": {},
     "output_type": "execute_result"
    }
   ],
   "source": [
    "def make_assessories():\n",
    "    pass\n",
    "    \n",
    "make_assessories()\n",
    "    "
   ]
  },
  {
   "cell_type": "markdown",
   "id": "a33a2a92",
   "metadata": {},
   "source": [
    "# Filter the list for all items over the price of 19.99"
   ]
  },
  {
   "cell_type": "code",
   "execution_count": 42,
   "id": "d23b03e0",
   "metadata": {},
   "outputs": [
    {
     "name": "stdout",
     "output_type": "stream",
     "text": [
      "[{'id': 4, 'name': 'Red Sneakers', 'desc': 'I love red shoes', 'price': 109.99, 'category': 'accessories'}, {'id': 3, 'name': 'Blue Heels', 'desc': \"I Can't walk in these\", 'price': 69.99, 'category': 'accessories'}, {'id': 5, 'name': 'NY Yankees Hat', 'desc': 'I hate the Red Sox', 'price': 24.99, 'category': 'accessories'}, {'id': 6, 'name': 'Cowboy', 'desc': 'Get ready for the ho-down', 'price': 49.99, 'category': 'accessories'}]\n"
     ]
    }
   ],
   "source": []
  },
  {
   "cell_type": "markdown",
   "id": "e4d311c8",
   "metadata": {},
   "source": [
    "# Print every letter of the description of the Fedora Hat on a new line"
   ]
  },
  {
   "cell_type": "code",
   "execution_count": 43,
   "id": "d1c8cea2",
   "metadata": {},
   "outputs": [
    {
     "name": "stdout",
     "output_type": "stream",
     "text": [
      "T\n",
      "h\n",
      "e\n",
      " \n",
      "h\n",
      "a\n",
      "t\n",
      " \n",
      "n\n",
      "o\n",
      "t\n",
      " \n",
      "t\n",
      "h\n",
      "e\n",
      " \n",
      "O\n",
      "S\n"
     ]
    }
   ],
   "source": []
  },
  {
   "cell_type": "markdown",
   "id": "02950eb5",
   "metadata": {},
   "source": [
    "# Write a function the will accept an item dictionary and remove that item from the list of items"
   ]
  },
  {
   "cell_type": "code",
   "execution_count": 46,
   "id": "60a07360",
   "metadata": {},
   "outputs": [
    {
     "data": {
      "text/plain": [
       "[{'id': 4,\n",
       "  'name': 'Red Sneakers',\n",
       "  'desc': 'I love red shoes',\n",
       "  'price': 109.99,\n",
       "  'category': 'accessories'},\n",
       " {'id': 3,\n",
       "  'name': 'Blue Heels',\n",
       "  'desc': \"I Can't walk in these\",\n",
       "  'price': 69.99,\n",
       "  'category': 'accessories'},\n",
       " {'id': 2,\n",
       "  'name': 'Aerosmith T-Shirt',\n",
       "  'desc': 'Show others you used to have bad taste in music',\n",
       "  'price': 4.99,\n",
       "  'category': 'shirts'},\n",
       " {'id': 5,\n",
       "  'name': 'NY Yankees Hat',\n",
       "  'desc': 'I hate the Red Sox',\n",
       "  'price': 24.99,\n",
       "  'category': 'accessories'},\n",
       " {'id': 6,\n",
       "  'name': 'Cowboy',\n",
       "  'desc': 'Get ready for the ho-down',\n",
       "  'price': 49.99,\n",
       "  'category': 'accessories'},\n",
       " {'id': 7,\n",
       "  'name': 'Fedora',\n",
       "  'desc': 'The hat not the OS',\n",
       "  'price': 16.47,\n",
       "  'category': 'accessories'}]"
      ]
     },
     "execution_count": 46,
     "metadata": {},
     "output_type": "execute_result"
    }
   ],
   "source": [
    "def remove_item(item):\n",
    "    pass\n",
    "\n",
    "remove_item( {'id': 1,\n",
    "  'name': 'Vote for Pedro T',\n",
    "  'desc': 'Napolean Dynomite Theme T',\n",
    "  'price': 19.99,\n",
    "  'category': 'shirts'})"
   ]
  },
  {
   "cell_type": "code",
   "execution_count": 96,
   "id": "de510f46",
   "metadata": {},
   "outputs": [],
   "source": [
    "class Rapper():\n",
    "    def __init__(self, n, s, a):\n",
    "        self.name = a\n",
    "        self.style = s\n",
    "        self.age = n\n",
    "        self.tracks=[]\n",
    "        self.label = None\n",
    "        \n",
    "    def sign_artist(self, label):\n",
    "        if not self.label:\n",
    "            self.label = label\n",
    "        \n",
    "    def __repr__(self):\n",
    "        return f\"<Rapper: {self.name}| {self.age}>\"\n",
    "        \n",
    "    def rap(self):\n",
    "        return \"\"\"I said-a hip, hop, the hippie, the hippie\n",
    "        To the hip hip hop-a you don't stop the rock\n",
    "        it to the bang-bang boogie, say up jump the boogie\n",
    "        To the rhythm of the boogie, the beat...\n",
    "        \"\"\"\n",
    "    \n",
    "    def drop_label(self):\n",
    "        self.label=None\n",
    "        \n",
    "    def create_song(self, title):\n",
    "        self.tracks.append(title)\n",
    "        \n",
    "    def remove_song_by_track(self,track_number):\n",
    "        del self.tracks[track_number]\n",
    "        \n",
    "    def remove_song_by_title(self,title):\n",
    "        self.tracks.remove(title)\n",
    "        \n",
    "    def __lt__(self, __o):\n",
    "        return self.age < __o.age\n",
    "    \n",
    "    def __gt__(self, __o):\n",
    "        return self.age > __o.age\n",
    "    \n",
    "    def __le__(self, __o):\n",
    "        return self.age <= __o.age\n",
    "    \n",
    "    def __ge__(self, __o):\n",
    "        return self.age >= __o.age\n",
    "    \n",
    "    def __eq__(self,__o):\n",
    "        return self.age == __o.age"
   ]
  },
  {
   "cell_type": "code",
   "execution_count": 97,
   "id": "b5af3622",
   "metadata": {},
   "outputs": [],
   "source": [
    "llcoolj = Rapper(54, \"New School Hip Hop\" ,\"LL Cool J\")\n",
    "tupac  = Rapper(25, \"Gangster Rap\" ,\"LL Cool J\")\n",
    "lilpump  = Rapper(22, \"Mumble\" ,\"Lil Pump\")\n",
    "youngthug = Rapper(31,\"Trap\",\"Young Thug\")\n",
    "\n",
    "rappers=[tupac, lilpump, llcoolj, youngthug]"
   ]
  },
  {
   "cell_type": "markdown",
   "id": "187e935d",
   "metadata": {},
   "source": [
    "## Give me the total age of all the rappers combined"
   ]
  },
  {
   "cell_type": "code",
   "execution_count": 98,
   "id": "2d753af7",
   "metadata": {},
   "outputs": [
    {
     "name": "stdout",
     "output_type": "stream",
     "text": [
      "132\n"
     ]
    }
   ],
   "source": []
  },
  {
   "cell_type": "markdown",
   "id": "8b54b22c",
   "metadata": {},
   "source": [
    "## Sort the list of rappers by age Out Of Place; Oldest to youngest"
   ]
  },
  {
   "cell_type": "code",
   "execution_count": 99,
   "id": "686f3ca5",
   "metadata": {},
   "outputs": [
    {
     "name": "stdout",
     "output_type": "stream",
     "text": [
      "[<Rapper: LL Cool J| 54>, <Rapper: Young Thug| 31>, <Rapper: LL Cool J| 25>, <Rapper: Lil Pump| 22>]\n"
     ]
    }
   ],
   "source": []
  },
  {
   "cell_type": "markdown",
   "id": "db6524d4",
   "metadata": {},
   "source": [
    "## have llcoolj sign with 'Def Jam Records' and verify it by printing LL's record label using his object"
   ]
  },
  {
   "cell_type": "code",
   "execution_count": 100,
   "id": "f71039e5",
   "metadata": {},
   "outputs": [
    {
     "name": "stdout",
     "output_type": "stream",
     "text": [
      "Def Jam Records\n"
     ]
    }
   ],
   "source": [
    "\n",
    "print(llcoolj.label)"
   ]
  },
  {
   "cell_type": "markdown",
   "id": "254b1f09",
   "metadata": {},
   "source": [
    "## Now have LL Cool J Drop Def Jam and have him sign with '429' "
   ]
  },
  {
   "cell_type": "code",
   "execution_count": 104,
   "id": "3939058a",
   "metadata": {},
   "outputs": [
    {
     "name": "stdout",
     "output_type": "stream",
     "text": [
      "429\n"
     ]
    }
   ],
   "source": [
    "\n",
    "print(llcoolj.label)"
   ]
  },
  {
   "cell_type": "markdown",
   "id": "bc840b23",
   "metadata": {},
   "source": [
    "## Add Songs to Tupac:\n",
    "    add 'Hit em Up'\n",
    "    add 'Ambitionz az a Ridah'\n",
    "    add 'Brenda's got a Baby'\n",
    "    add 'California Love'\n",
    "    add 'All Eyez on Me'\n",
    " Verify by printing track list for tupac"
   ]
  },
  {
   "cell_type": "code",
   "execution_count": 105,
   "id": "f74c4faf",
   "metadata": {},
   "outputs": [
    {
     "name": "stdout",
     "output_type": "stream",
     "text": [
      "['Hit em Up', 'Ambitionz az a Ridah', \"Brenda's got a Baby\", 'California Love', 'All Eyez on Me']\n"
     ]
    }
   ],
   "source": [
    "\n",
    "\n",
    "print(tupac.tracks)"
   ]
  },
  {
   "cell_type": "markdown",
   "id": "72273969",
   "metadata": {},
   "source": [
    "## Remove the 2nd track and verify by printing Tupac Track List"
   ]
  },
  {
   "cell_type": "code",
   "execution_count": 106,
   "id": "a234e3f8",
   "metadata": {},
   "outputs": [
    {
     "name": "stdout",
     "output_type": "stream",
     "text": [
      "['Hit em Up', \"Brenda's got a Baby\", 'California Love', 'All Eyez on Me']\n"
     ]
    }
   ],
   "source": [
    "\n",
    "print(tupac.tracks)\n"
   ]
  },
  {
   "cell_type": "markdown",
   "id": "1eed7cce",
   "metadata": {},
   "source": [
    "## Remove the track All Eyez on Me and verify by printing Tupac Track List"
   ]
  },
  {
   "cell_type": "code",
   "execution_count": 108,
   "id": "47937b35",
   "metadata": {},
   "outputs": [
    {
     "name": "stdout",
     "output_type": "stream",
     "text": [
      "['Hit em Up', \"Brenda's got a Baby\", 'California Love']\n"
     ]
    }
   ],
   "source": [
    "\n",
    "\n",
    "print(tupac.tracks)\n"
   ]
  }
 ],
 "metadata": {
  "kernelspec": {
   "display_name": "Python 3 (ipykernel)",
   "language": "python",
   "name": "python3"
  },
  "language_info": {
   "codemirror_mode": {
    "name": "ipython",
    "version": 3
   },
   "file_extension": ".py",
   "mimetype": "text/x-python",
   "name": "python",
   "nbconvert_exporter": "python",
   "pygments_lexer": "ipython3",
   "version": "3.9.12"
  }
 },
 "nbformat": 4,
 "nbformat_minor": 5
}
